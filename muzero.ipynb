{
 "cells": [
  {
   "attachments": {},
   "cell_type": "markdown",
   "metadata": {},
   "source": [
    "# Accelerated MuZero in Jax"
   ]
  },
  {
   "cell_type": "code",
   "execution_count": 2,
   "metadata": {},
   "outputs": [
    {
     "name": "stderr",
     "output_type": "stream",
     "text": [
      "/usr/local/Caskroom/miniforge/base/envs/jax/lib/python3.11/site-packages/flax/struct.py:136: FutureWarning: jax.tree_util.register_keypaths is deprecated, and will be removed in a future release. Please use `register_pytree_with_keys()` instead.\n",
      "  jax.tree_util.register_keypaths(data_clz, keypaths)\n",
      "/usr/local/Caskroom/miniforge/base/envs/jax/lib/python3.11/site-packages/flax/struct.py:136: FutureWarning: jax.tree_util.register_keypaths is deprecated, and will be removed in a future release. Please use `register_pytree_with_keys()` instead.\n",
      "  jax.tree_util.register_keypaths(data_clz, keypaths)\n",
      "/usr/local/Caskroom/miniforge/base/envs/jax/lib/python3.11/site-packages/flax/struct.py:136: FutureWarning: jax.tree_util.register_keypaths is deprecated, and will be removed in a future release. Please use `register_pytree_with_keys()` instead.\n",
      "  jax.tree_util.register_keypaths(data_clz, keypaths)\n"
     ]
    }
   ],
   "source": [
    "import dataclasses\n",
    "import functools\n",
    "from __future__ import annotations\n",
    "from typing import Callable\n",
    "\n",
    "import jax\n",
    "import jax.numpy as jnp\n",
    "import jax.scipy as jsp\n",
    "import numpy as np\n",
    "import matplotlib.pyplot as plt\n",
    "\n",
    "import chex\n",
    "import flax\n",
    "import flax.linen as nn\n",
    "import mctx\n",
    "import optax\n",
    "\n",
    "from flax.training import train_state\n",
    "from tqdm import tqdm"
   ]
  },
  {
   "attachments": {},
   "cell_type": "markdown",
   "metadata": {},
   "source": [
    "## Gomoku"
   ]
  },
  {
   "cell_type": "code",
   "execution_count": 3,
   "metadata": {},
   "outputs": [],
   "source": [
    "@chex.dataclass(frozen=True)\n",
    "class Gomoku:\n",
    "  rows: int = 10\n",
    "  cols: int = 10\n",
    "  n: int = 3\n",
    "\n",
    "  def action_size(self) -> int:\n",
    "    return self.rows * self.cols\n",
    "\n",
    "  def reset(self) -> chex.Array:\n",
    "    return jnp.zeros((self.rows, self.cols))\n",
    "\n",
    "  def next_player(self, player: int) -> int:\n",
    "    return -player\n",
    "\n",
    "  @jax.jit\n",
    "  def valid_moves(self, state: chex.Array) -> chex.Array:\n",
    "    return state.reshape(-1) == 0\n",
    "\n",
    "  @functools.partial(jax.jit, static_argnums=(0,))\n",
    "  def step(self, state: chex.Array, action: int, player: int) -> chex.ArrayTree:\n",
    "    state = state.at[action // self.cols, action % self.cols].set(player)\n",
    "    draw = jnp.sum(self.valid_moves(state)) == 0\n",
    "    is_win = self.is_win(state, player)\n",
    "    reward = is_win.astype(jnp.int32) * (1 - draw.astype(jnp.int32)) * player\n",
    "    terminal = jnp.logical_or(is_win, draw)\n",
    "    return state, reward, terminal\n",
    "\n",
    "  @functools.partial(jax.jit, static_argnums=(0,))\n",
    "  def is_win(self, state: chex.Array, curr_player: int) -> chex.Array:\n",
    "    p_mask = state == curr_player\n",
    "    horizonal_kernel = jnp.ones((1, self.n))\n",
    "    vertical_kernel = jnp.ones((self.n, 1))\n",
    "    diagonal_kernel_1 = jnp.eye(self.n)\n",
    "    diagonal_kernel_2 = jnp.flip(jnp.eye(self.n), axis=0)\n",
    "\n",
    "    max_counts = jnp.stack([\n",
    "        jnp.max(jsp.signal.convolve2d(p_mask, horizonal_kernel, mode=\"valid\")),\n",
    "        jnp.max(jsp.signal.convolve2d(p_mask, vertical_kernel, mode=\"valid\")),\n",
    "        jnp.max(jsp.signal.convolve2d(p_mask, diagonal_kernel_1, mode=\"valid\")),\n",
    "        jnp.max(jsp.signal.convolve2d(p_mask, diagonal_kernel_2, mode=\"valid\")),\n",
    "    ])\n",
    "    return jnp.any(max_counts >= self.n)\n",
    "\n",
    "  @jax.jit\n",
    "  def canonical(self, state: chex.Array) -> chex.Array:\n",
    "    return jnp.stack([state == -1, state == 0, state == 1]).astype(jnp.float32)\n",
    "\n",
    "  def inverse_canonical(self, canonical: chex.Array) -> chex.Array:\n",
    "    opponent = canonical[0].astype(dtype=jnp.bool_)\n",
    "    empty = canonical[1].astype(dtype=jnp.bool_)\n",
    "    player = canonical[2].astype(dtype=jnp.bool_)\n",
    "    return jnp.where(empty, 0, jnp.where(player, 1, -1))\n",
    "\n",
    "  def render(self, state: chex.Array) -> None:\n",
    "    plt.imshow(state, cmap=\"gray\")\n",
    "    plt.show()"
   ]
  },
  {
   "attachments": {},
   "cell_type": "markdown",
   "metadata": {},
   "source": [
    "## Neural Network"
   ]
  },
  {
   "cell_type": "code",
   "execution_count": 4,
   "metadata": {},
   "outputs": [],
   "source": [
    "class ConvolutionalBlock(nn.Module):\n",
    "  num_hidden: int\n",
    "\n",
    "  @nn.compact\n",
    "  def __call__(self, x, train: bool = False):\n",
    "    y = nn.Conv(self.num_hidden, kernel_size=(3, 3))(x)\n",
    "    y = nn.BatchNorm(use_running_average=not train)(y)\n",
    "    return nn.relu(y)\n",
    "\n",
    "\n",
    "class ResidualBlock(nn.Module):\n",
    "  num_hidden: int\n",
    "\n",
    "  @nn.compact\n",
    "  def __call__(self, x, train: bool = False):\n",
    "    y = nn.Conv(self.num_hidden, kernel_size=(3, 3))(x)\n",
    "    y = nn.BatchNorm(use_running_average=not train)(y)\n",
    "    y = nn.relu(y)\n",
    "    y = nn.Conv(self.num_hidden, kernel_size=(3, 3))(x)\n",
    "    y = nn.BatchNorm(use_running_average=not train)(y)\n",
    "    return nn.relu(x + y)\n",
    "\n",
    "\n",
    "class PolicyValueNet(nn.Module):\n",
    "  num_blocks: int\n",
    "  action_size: int\n",
    "  num_hidden: int = 64\n",
    "  num_hidden_policy: int = 32\n",
    "  num_hidden_value: int = 3\n",
    "\n",
    "  @nn.compact\n",
    "  def __call__(self, x, train: bool = False) -> tuple[chex.Array, chex.Array]:\n",
    "    y = ConvolutionalBlock(self.num_hidden)(x, train=train)\n",
    "    for _ in range(self.num_blocks):\n",
    "      y = ResidualBlock(self.num_hidden)(y, train=train)\n",
    "\n",
    "    policy = ConvolutionalBlock(self.num_hidden_policy)(y, train=train)\n",
    "    policy = policy.reshape(policy.shape[0], -1)\n",
    "    policy = nn.Dense(self.action_size)(policy)\n",
    "    policy = nn.softmax(policy)\n",
    "\n",
    "    value = ConvolutionalBlock(self.num_hidden_value)(y, train=train)\n",
    "    value = value.reshape(value.shape[0], -1)\n",
    "    value = nn.Dense(1)(value)\n",
    "    value = nn.tanh(value).squeeze(-1)\n",
    "\n",
    "    return policy, value\n",
    "\n",
    "  def build_inference_fn(\n",
    "      self, variables: chex.ArrayTree\n",
    "  ) -> Callable[chex.Array, tuple[chex.Array, chex.Array]]:\n",
    "    @jax.jit\n",
    "    def infer(batch):\n",
    "      return self.apply(variables, batch, train=False)\n",
    "\n",
    "    return infer"
   ]
  },
  {
   "cell_type": "code",
   "execution_count": 5,
   "metadata": {},
   "outputs": [],
   "source": [
    "class TrainState(train_state.TrainState):\n",
    "  batch_stats: chex.ArrayTree\n",
    "\n",
    "\n",
    "@jax.jit\n",
    "def train_step(\n",
    "    train_state: TrainState,\n",
    "    batch: tuple[chex.Array, chex.Array, chex.Array],\n",
    ") -> tuple[float, chex.ArrayTree]:\n",
    "  def loss_fn(params):\n",
    "    inputs, policy_targets, value_targets = batch\n",
    "    variables = {\"params\": params, \"batch_stats\": train_state.batch_stats}\n",
    "    (policy_logits, value), updates = model.apply(\n",
    "        variables, inputs, train=True, mutable=[\"batch_stats\"]\n",
    "    )\n",
    "    policy_loss = optax.softmax_cross_entropy(policy_logits, policy_targets)\n",
    "    value_loss = optax.l2_loss(value - value_targets)\n",
    "    policy_loss = jnp.mean(policy_loss)\n",
    "    value_loss = jnp.mean(value_loss)\n",
    "    loss = policy_loss + value_loss\n",
    "    return loss, (policy_loss, value_loss, updates)\n",
    "\n",
    "  grad_fn = jax.value_and_grad(loss_fn, has_aux=True)\n",
    "  (loss, aux), grads = grad_fn(train_state.params)\n",
    "  train_state = train_state.apply_gradients(grads=grads)\n",
    "\n",
    "  policy_loss, value_loss, updates = aux\n",
    "  train_state = train_state.replace(batch_stats=updates[\"batch_stats\"])\n",
    "\n",
    "  metrics = {\n",
    "      \"loss\": loss,\n",
    "      \"policy_loss\": policy_loss,\n",
    "      \"value_loss\": value_loss,\n",
    "  }\n",
    "\n",
    "  return train_state, metrics"
   ]
  },
  {
   "cell_type": "code",
   "execution_count": 6,
   "metadata": {},
   "outputs": [
    {
     "data": {
      "text/plain": [
       "(1, 3, 10, 10)"
      ]
     },
     "execution_count": 6,
     "metadata": {},
     "output_type": "execute_result"
    }
   ],
   "source": [
    "game = Gomoku()\n",
    "x = jax.lax.expand_dims(game.canonical(game.reset()), [0])\n",
    "x.shape"
   ]
  },
  {
   "cell_type": "code",
   "execution_count": 7,
   "metadata": {},
   "outputs": [],
   "source": [
    "model = PolicyValueNet(\n",
    "    num_hidden=32, num_blocks=2, action_size=game.action_size()\n",
    ")\n",
    "variables = model.init(jax.random.PRNGKey(0), x)\n",
    "inference_fn = model.build_inference_fn(variables)"
   ]
  },
  {
   "cell_type": "code",
   "execution_count": 8,
   "metadata": {},
   "outputs": [
    {
     "data": {
      "text/plain": [
       "(1, 100)"
      ]
     },
     "execution_count": 8,
     "metadata": {},
     "output_type": "execute_result"
    }
   ],
   "source": [
    "inference_fn(x)[0].shape"
   ]
  },
  {
   "attachments": {},
   "cell_type": "markdown",
   "metadata": {},
   "source": [
    "## MCTS"
   ]
  },
  {
   "cell_type": "code",
   "execution_count": 9,
   "metadata": {},
   "outputs": [
    {
     "data": {
      "text/plain": [
       "ItemsView(PolicyOutput(action=(32,), action_weights=(32, 100), search_tree=Tree(node_visits=(32, 101), raw_values=(32, 101), node_values=(32, 101), parents=(32, 101), action_from_parent=(32, 101), children_index=(32, 101, 100), children_prior_logits=(32, 101, 100), children_visits=(32, 101, 100), children_rewards=(32, 101, 100), children_discounts=(32, 101, 100), children_values=(32, 101, 100), embeddings=((32, 101, 10, 10), (32, 101)), root_invalid_actions=(32, 100), extra_data=None)))"
      ]
     },
     "execution_count": 9,
     "metadata": {},
     "output_type": "execute_result"
    }
   ],
   "source": [
    "@chex.dataclass(frozen=True)\n",
    "class Config:\n",
    "  iterations: int = 10\n",
    "  mcts_simulations: int = 100\n",
    "  batch_size: int = 32\n",
    "  self_play_games: int = 500\n",
    "  self_play_unroll_games: int = 100\n",
    "  num_epochs: int = 10\n",
    "  # C: float\n",
    "\n",
    "\n",
    "@chex.dataclass(frozen=True)\n",
    "class MCTS:\n",
    "  env: Gomoku\n",
    "  config: Config\n",
    "\n",
    "  @functools.partial(jax.jit, static_argnums=(0, 1))\n",
    "  def search(\n",
    "      self,\n",
    "      inference_fn: Callable[chex.Array, tuple[chex.Array, chex.Array]],\n",
    "      states: chex.Array,\n",
    "      players: chex.Array,\n",
    "      prng: chex.PRNGKey,\n",
    "  ) -> mctx.PolicyOutput:\n",
    "    inputs = jax.vmap(self.env.canonical)(states)\n",
    "    prior_logits, value = inference_fn(inputs)\n",
    "    root = mctx.RootFnOutput(\n",
    "        prior_logits=prior_logits,\n",
    "        value=value,\n",
    "        embedding=(states, players),\n",
    "    )\n",
    "\n",
    "    valid_moves = jax.vmap(self.env.valid_moves)(states)\n",
    "\n",
    "    policy_output = mctx.muzero_policy(\n",
    "        params={},  # Inference function will apply correct params.\n",
    "        rng_key=prng,\n",
    "        root=root,\n",
    "        recurrent_fn=self.build_recurrent_fn(inference_fn),\n",
    "        num_simulations=self.config.mcts_simulations,\n",
    "        invalid_actions=~valid_moves,\n",
    "    )\n",
    "    return policy_output\n",
    "\n",
    "  def build_recurrent_fn(self, inference_fn) -> mctx.RecurrentFn:\n",
    "    batch_step = jax.vmap(self.env.step, in_axes=(0, 0, 0))\n",
    "    batch_canonical = jax.vmap(self.env.canonical)\n",
    "    batch_next_player = jax.vmap(self.env.next_player)\n",
    "\n",
    "    def recurrent_fn(params, rng_key, actions, embedding):\n",
    "      del params\n",
    "      del rng_key\n",
    "\n",
    "      prior_states, players = embedding\n",
    "      states, rewards, terminals = batch_step(prior_states, actions, players)\n",
    "      next_players = batch_next_player(players)\n",
    "      inputs = batch_canonical(states)\n",
    "      policy, value = inference_fn(inputs)\n",
    "      recurrent_fn_output = mctx.RecurrentFnOutput(\n",
    "          reward=rewards,\n",
    "          discount=terminals.astype(jnp.int32) - 1,\n",
    "          prior_logits=policy,\n",
    "          value=value,\n",
    "      )\n",
    "      return recurrent_fn_output, (states, next_players)\n",
    "\n",
    "    return recurrent_fn\n",
    "\n",
    "\n",
    "game = Gomoku(rows=10, cols=10, n=4)\n",
    "config = Config()\n",
    "prng = jax.random.PRNGKey(0)\n",
    "param_key, mcts_key = jax.random.split(prng)\n",
    "\n",
    "init_states = jax.vmap(game.reset, axis_size=config.batch_size)()\n",
    "init_players = jnp.ones(config.batch_size)\n",
    "init_canonical = jax.vmap(game.canonical)(init_states)\n",
    "\n",
    "model = PolicyValueNet(\n",
    "    num_hidden=32, num_blocks=2, action_size=game.action_size()\n",
    ")\n",
    "variables = model.init(param_key, init_canonical)\n",
    "inference_fn = model.build_inference_fn(variables)\n",
    "\n",
    "mcts = MCTS(env=game, config=config)\n",
    "policy_output = mcts.search(inference_fn, init_states, init_players, mcts_key)\n",
    "jax.tree_map(lambda x: x.shape, policy_output).items()"
   ]
  },
  {
   "attachments": {},
   "cell_type": "markdown",
   "metadata": {},
   "source": [
    "## MuZero"
   ]
  },
  {
   "cell_type": "code",
   "execution_count": 70,
   "metadata": {},
   "outputs": [],
   "source": [
    "class MuZero:\n",
    "\n",
    "  def __init__(\n",
    "      self,\n",
    "      env: Gomoku,\n",
    "      config: Config,\n",
    "      model: PolicyValueNet,\n",
    "      optimizer: optax.GradientTransformation,\n",
    "      prng: chex.PRNGKey,\n",
    "  ):\n",
    "    self.env = env\n",
    "    self.config = config\n",
    "    self.model = model\n",
    "    self.optimizer = optimizer\n",
    "    self.mcts = MCTS(env=self.env, config=self.config)\n",
    "\n",
    "    init_states = jax.vmap(self.env.reset, axis_size=self.config.batch_size)()\n",
    "    init_canonical = jax.vmap(game.canonical)(init_states)\n",
    "    self.variables = self.model.init(prng, init_canonical)\n",
    "\n",
    "  @functools.partial(jax.jit, static_argnums=(0,))\n",
    "  def vectorized_self_play(self, prng: chex.PRNGKey):\n",
    "    inference_fn = self.model.build_inference_fn(self.variables)\n",
    "\n",
    "    batch_step = jax.vmap(self.env.step, in_axes=(0, 0, 0))\n",
    "    batch_canonical = jax.vmap(self.env.canonical)\n",
    "    batch_next_player = jax.vmap(self.env.next_player)\n",
    "    batch_reset = jax.vmap(self.env.reset, axis_size=self.config.batch_size)\n",
    "    player_reset = lambda: jnp.ones(self.config.batch_size)\n",
    "    terminal_reset = lambda: jnp.zeros(self.config.batch_size).astype(jnp.bool_)\n",
    "\n",
    "    def game_loop(loop_state, _):\n",
    "      states, players, terminals, rng_key = loop_state\n",
    "      rng_key, subkey = jax.random.split(rng_key)\n",
    "\n",
    "      # Reset states that terminated in the previous step\n",
    "      padded_terminals = jax.lax.expand_dims(terminals, [-2, -1])\n",
    "      states = jnp.where(padded_terminals, batch_reset(), states)\n",
    "      players = jnp.where(terminals, player_reset(), players)\n",
    "\n",
    "      # MCTS\n",
    "      policy_output = self.mcts.search(inference_fn, states, players, subkey)\n",
    "      actions = policy_output.action\n",
    "      action_probs = policy_output.action_weights\n",
    "\n",
    "      # Track canonical states for memory buffer\n",
    "      canonical_states = batch_canonical(states)\n",
    "\n",
    "      # Batched step\n",
    "      states, rewards, terminals = batch_step(states, actions, players)\n",
    "      players = batch_next_player(players)\n",
    "\n",
    "      loop_state = states, players, terminals, rng_key\n",
    "      outputs = canonical_states, action_probs, rewards, terminals\n",
    "      return loop_state, outputs\n",
    "\n",
    "    loop_state = batch_reset(), player_reset(), terminal_reset(), prng\n",
    "    canonical_states, action_probs, rewards, terminals = jax.lax.scan(\n",
    "        game_loop, loop_state, None, length=self.config.self_play_unroll_games\n",
    "    )[1]\n",
    "    game_count = jnp.sum(terminals).squeeze().astype(jnp.int32)\n",
    "\n",
    "    def win_scan_fn(accum, x):\n",
    "      reward, terminal = x\n",
    "      new_accum = jnp.where(terminal, reward, accum)\n",
    "      return new_accum, new_accum\n",
    "\n",
    "    carry = jnp.zeros(self.config.batch_size)\n",
    "    winners = jax.lax.scan(\n",
    "        win_scan_fn, carry, (rewards, terminals), reverse=True\n",
    "    )[1]\n",
    "    cumsum = jnp.flip(jnp.cumsum(jnp.flip(terminals, axis=0), axis=0), axis=0)\n",
    "    valid_mask = cumsum > 0\n",
    "\n",
    "    flatten = lambda x: x.reshape((-1,) + x.shape[2:])\n",
    "    canonical, action_probs, winners, valid_mask = jax.tree_map(\n",
    "        flatten, (canonical_states, action_probs, winners, valid_mask)\n",
    "    )\n",
    "\n",
    "    return (canonical, action_probs, winners), valid_mask, game_count\n",
    "\n",
    "  def self_play(self, prng: chex.PRNGKey) -> chex.ArrayTree:\n",
    "    # Batched self-play until the target number of games is reached\n",
    "    memory = []\n",
    "    net_game_count = 0\n",
    "    pbar = tqdm(total=self.config.self_play_games)\n",
    "    while net_game_count < self.config.self_play_games:\n",
    "      prng, mcts_key = jax.random.split(prng)\n",
    "      entries, valid_mask, game_count = self.vectorized_self_play(mcts_key)\n",
    "      entries = jax.tree_map(lambda x: x[valid_mask], entries)\n",
    "      memory.append(entries)\n",
    "\n",
    "      # Cast to resolve async dispatch issues\n",
    "      game_count = np.array(game_count)\n",
    "      pbar.update(game_count)\n",
    "      net_game_count += game_count\n",
    "    pbar.close()\n",
    "\n",
    "    # Return a tuple of states, policy targets, value targets\n",
    "    return tuple(map(jnp.concatenate, zip(*memory)))\n",
    "\n",
    "  def learn(self, prng: chex.PRNGKey):\n",
    "    train_state = TrainState.create(\n",
    "        apply_fn=self.model.apply,\n",
    "        params=self.variables[\"params\"],\n",
    "        tx=self.optimizer,\n",
    "        batch_stats=self.variables[\"batch_stats\"],\n",
    "    )\n",
    "\n",
    "    overall_metrics = []\n",
    "    for i in range(self.config.iterations):\n",
    "      print(f\"Iteration {i + 1}:\")\n",
    "\n",
    "      # Self-play to generate training data\n",
    "      print(\"Self Play...\")\n",
    "      memory = self.self_play(prng)\n",
    "\n",
    "      # Train the Policy-Value network\n",
    "      print(\"Training...\")\n",
    "      b = self.config.batch_size\n",
    "      N = memory[0].shape[0]\n",
    "      for _ in range(self.config.num_epochs):\n",
    "        epoch_metrics = []\n",
    "        for i in tqdm(range(N // b)):\n",
    "          prng, sample_key = jax.random.split(prng)\n",
    "          sample_idxs = jax.random.randint(sample_key, (b,), 0, N)\n",
    "          batch = jax.tree_map(lambda x: x[sample_idxs], memory)\n",
    "          train_state, metrics = train_step(train_state, batch)\n",
    "          epoch_metrics.append(metrics)\n",
    "\n",
    "        print(f\"Epoch Loss: {np.mean([m['loss'] for m in epoch_metrics])}\")\n",
    "\n",
    "        overall_metrics.extend(epoch_metrics)\n",
    "\n",
    "    return train_state, overall_metrics\n",
    "\n",
    "  def optimal_policy(self, state: chex.Array, player: int, prng: chex.PRNGKey):\n",
    "    inference_fn = self.model.build_inference_fn(self.variables)\n",
    "    pad_size = self.config.batch_size - 1\n",
    "    states = jnp.stack([state] + [self.env.reset()] * pad_size)\n",
    "    players = jnp.stack([player] + [1] * pad_size)\n",
    "    policy_output = self.mcts.search(inference_fn, states, players, prng)\n",
    "    return policy_output.action_weights[0]"
   ]
  },
  {
   "cell_type": "code",
   "execution_count": 46,
   "metadata": {},
   "outputs": [
    {
     "name": "stdout",
     "output_type": "stream",
     "text": [
      "Iteration 1:\n",
      "Self Play...\n"
     ]
    },
    {
     "name": "stderr",
     "output_type": "stream",
     "text": [
      "264it [00:24, 10.98it/s]               \n"
     ]
    },
    {
     "name": "stdout",
     "output_type": "stream",
     "text": [
      "Training...\n"
     ]
    },
    {
     "name": "stderr",
     "output_type": "stream",
     "text": [
      "100%|██████████| 56/56 [00:05<00:00, 10.29it/s]\n"
     ]
    },
    {
     "name": "stdout",
     "output_type": "stream",
     "text": [
      "Epoch Loss: 2.288823366165161\n"
     ]
    },
    {
     "name": "stderr",
     "output_type": "stream",
     "text": [
      "100%|██████████| 56/56 [00:01<00:00, 54.59it/s]\n"
     ]
    },
    {
     "name": "stdout",
     "output_type": "stream",
     "text": [
      "Epoch Loss: 2.1922411918640137\n"
     ]
    },
    {
     "name": "stderr",
     "output_type": "stream",
     "text": [
      "100%|██████████| 56/56 [00:01<00:00, 46.69it/s]\n"
     ]
    },
    {
     "name": "stdout",
     "output_type": "stream",
     "text": [
      "Epoch Loss: 2.180494546890259\n"
     ]
    },
    {
     "name": "stderr",
     "output_type": "stream",
     "text": [
      "100%|██████████| 56/56 [00:01<00:00, 50.76it/s]\n"
     ]
    },
    {
     "name": "stdout",
     "output_type": "stream",
     "text": [
      "Epoch Loss: 2.1507201194763184\n"
     ]
    },
    {
     "name": "stderr",
     "output_type": "stream",
     "text": [
      "100%|██████████| 56/56 [00:01<00:00, 51.37it/s]\n"
     ]
    },
    {
     "name": "stdout",
     "output_type": "stream",
     "text": [
      "Epoch Loss: 2.1273353099823\n",
      "Iteration 2:\n",
      "Self Play...\n"
     ]
    },
    {
     "name": "stderr",
     "output_type": "stream",
     "text": [
      "268it [00:21, 12.73it/s]               \n"
     ]
    },
    {
     "name": "stdout",
     "output_type": "stream",
     "text": [
      "Training...\n"
     ]
    },
    {
     "name": "stderr",
     "output_type": "stream",
     "text": [
      "100%|██████████| 57/57 [00:01<00:00, 43.24it/s]\n"
     ]
    },
    {
     "name": "stdout",
     "output_type": "stream",
     "text": [
      "Epoch Loss: 2.1965525150299072\n"
     ]
    },
    {
     "name": "stderr",
     "output_type": "stream",
     "text": [
      "100%|██████████| 57/57 [00:01<00:00, 50.88it/s]\n"
     ]
    },
    {
     "name": "stdout",
     "output_type": "stream",
     "text": [
      "Epoch Loss: 2.132498264312744\n"
     ]
    },
    {
     "name": "stderr",
     "output_type": "stream",
     "text": [
      "100%|██████████| 57/57 [00:01<00:00, 53.33it/s]\n"
     ]
    },
    {
     "name": "stdout",
     "output_type": "stream",
     "text": [
      "Epoch Loss: 2.132735252380371\n"
     ]
    },
    {
     "name": "stderr",
     "output_type": "stream",
     "text": [
      "100%|██████████| 57/57 [00:01<00:00, 53.31it/s]\n"
     ]
    },
    {
     "name": "stdout",
     "output_type": "stream",
     "text": [
      "Epoch Loss: 2.1309123039245605\n"
     ]
    },
    {
     "name": "stderr",
     "output_type": "stream",
     "text": [
      "100%|██████████| 57/57 [00:01<00:00, 55.93it/s]\n"
     ]
    },
    {
     "name": "stdout",
     "output_type": "stream",
     "text": [
      "Epoch Loss: 2.108787775039673\n",
      "Iteration 3:\n",
      "Self Play...\n"
     ]
    },
    {
     "name": "stderr",
     "output_type": "stream",
     "text": [
      "271it [00:20, 13.31it/s]               \n"
     ]
    },
    {
     "name": "stdout",
     "output_type": "stream",
     "text": [
      "Training...\n"
     ]
    },
    {
     "name": "stderr",
     "output_type": "stream",
     "text": [
      "100%|██████████| 57/57 [00:01<00:00, 49.62it/s]\n"
     ]
    },
    {
     "name": "stdout",
     "output_type": "stream",
     "text": [
      "Epoch Loss: 2.158635139465332\n"
     ]
    },
    {
     "name": "stderr",
     "output_type": "stream",
     "text": [
      "100%|██████████| 57/57 [00:01<00:00, 54.70it/s]\n"
     ]
    },
    {
     "name": "stdout",
     "output_type": "stream",
     "text": [
      "Epoch Loss: 2.113091468811035\n"
     ]
    },
    {
     "name": "stderr",
     "output_type": "stream",
     "text": [
      "100%|██████████| 57/57 [00:00<00:00, 58.94it/s]\n"
     ]
    },
    {
     "name": "stdout",
     "output_type": "stream",
     "text": [
      "Epoch Loss: 2.123042345046997\n"
     ]
    },
    {
     "name": "stderr",
     "output_type": "stream",
     "text": [
      "100%|██████████| 57/57 [00:01<00:00, 53.87it/s]\n"
     ]
    },
    {
     "name": "stdout",
     "output_type": "stream",
     "text": [
      "Epoch Loss: 2.084272623062134\n"
     ]
    },
    {
     "name": "stderr",
     "output_type": "stream",
     "text": [
      "100%|██████████| 57/57 [00:01<00:00, 51.80it/s]"
     ]
    },
    {
     "name": "stdout",
     "output_type": "stream",
     "text": [
      "Epoch Loss: 2.061075210571289\n"
     ]
    },
    {
     "name": "stderr",
     "output_type": "stream",
     "text": [
      "\n"
     ]
    }
   ],
   "source": [
    "init_key, learn_key = jax.random.split(jax.random.PRNGKey(0))\n",
    "env = Gomoku(rows=3, cols=3, n=3)\n",
    "muzero = MuZero(\n",
    "    env=env,\n",
    "    config=Config(\n",
    "        iterations=3,\n",
    "        self_play_games=500,\n",
    "        mcts_simulations=60,\n",
    "        batch_size=32,\n",
    "        self_play_unroll_games=60,\n",
    "        num_epochs=5,\n",
    "    ),\n",
    "    model=PolicyValueNet(num_blocks=4, action_size=env.action_size()),\n",
    "    optimizer=optax.adamw(learning_rate=0.001),\n",
    "    prng=init_key,\n",
    ")\n",
    "train_state, metrics = muzero.learn(learn_key)"
   ]
  },
  {
   "cell_type": "code",
   "execution_count": 47,
   "metadata": {},
   "outputs": [
    {
     "data": {
      "image/png": "[encoded data removed]",
      "text/plain": [
       "<Figure size 640x480 with 1 Axes>"
      ]
     },
     "metadata": {},
     "output_type": "display_data"
    }
   ],
   "source": [
    "plt.plot([m[\"loss\"] for m in metrics])\n",
    "plt.show()"
   ]
  },
  {
   "cell_type": "code",
   "execution_count": 73,
   "metadata": {},
   "outputs": [
    {
     "name": "stdout",
     "output_type": "stream",
     "text": [
      "[[0. 0. 0.]\n",
      " [0. 0. 0.]\n",
      " [0. 0. 0.]]\n",
      "Valid Moves: [0 1 2 3 4 5 6 7 8]\n",
      "[[1. 0. 0.]\n",
      " [0. 0. 0.]\n",
      " [0. 0. 0.]]\n",
      "[[ 1.  0. -1.]\n",
      " [ 0.  0.  0.]\n",
      " [ 0.  0.  0.]]\n",
      "Valid Moves: [1 3 4 5 6 7 8]\n",
      "Invalid Move.\n",
      "[[ 1.  0. -1.]\n",
      " [ 0.  0.  0.]\n",
      " [ 0.  0.  0.]]\n",
      "Valid Moves: [1 3 4 5 6 7 8]\n",
      "[[ 1.  0. -1.]\n",
      " [ 0.  1.  0.]\n",
      " [ 0.  0.  0.]]\n",
      "[[ 1.  0. -1.]\n",
      " [ 0.  1.  0.]\n",
      " [ 0. -1.  0.]]\n",
      "Valid Moves: [1 3 5 6 8]\n",
      "[[ 1.  1. -1.]\n",
      " [ 0.  1.  0.]\n",
      " [ 0. -1.  0.]]\n",
      "[[ 1.  1. -1.]\n",
      " [ 0.  1.  0.]\n",
      " [ 0. -1. -1.]]\n",
      "Valid Moves: [3 5 6]\n"
     ]
    },
    {
     "ename": "ValueError",
     "evalue": "invalid literal for int() with base 10: ''",
     "output_type": "error",
     "traceback": [
      "\u001b[0;31m---------------------------------------------------------------------------\u001b[0m",
      "\u001b[0;31mValueError\u001b[0m                                Traceback (most recent call last)",
      "Cell \u001b[0;32mIn[73], line 12\u001b[0m\n\u001b[1;32m     10\u001b[0m valid_moves \u001b[39m=\u001b[39m np\u001b[39m.\u001b[39marange(env\u001b[39m.\u001b[39maction_size())[env\u001b[39m.\u001b[39mvalid_moves(state)]\n\u001b[1;32m     11\u001b[0m \u001b[39mprint\u001b[39m(\u001b[39mf\u001b[39m\u001b[39m\"\u001b[39m\u001b[39mValid Moves: \u001b[39m\u001b[39m{\u001b[39;00mvalid_moves\u001b[39m}\u001b[39;00m\u001b[39m\"\u001b[39m)\n\u001b[0;32m---> 12\u001b[0m action \u001b[39m=\u001b[39m \u001b[39mint\u001b[39;49m(\u001b[39minput\u001b[39;49m(\u001b[39mf\u001b[39;49m\u001b[39m\"\u001b[39;49m\u001b[39mPlayer \u001b[39;49m\u001b[39m{\u001b[39;49;00mplayer\u001b[39m}\u001b[39;49;00m\u001b[39m:\u001b[39;49m\u001b[39m\"\u001b[39;49m))\n\u001b[1;32m     13\u001b[0m \u001b[39mif\u001b[39;00m action \u001b[39mnot\u001b[39;00m \u001b[39min\u001b[39;00m valid_moves:\n\u001b[1;32m     14\u001b[0m   \u001b[39mprint\u001b[39m(\u001b[39m\"\u001b[39m\u001b[39mInvalid Move.\u001b[39m\u001b[39m\"\u001b[39m)\n",
      "\u001b[0;31mValueError\u001b[0m: invalid literal for int() with base 10: ''"
     ]
    }
   ],
   "source": [
    "state = env.reset()\n",
    "terminal = False\n",
    "player = 1\n",
    "prng = jax.random.PRNGKey(0)\n",
    "\n",
    "while not terminal:\n",
    "  print(state)\n",
    "\n",
    "  if player == 1:\n",
    "    valid_moves = np.arange(env.action_size())[env.valid_moves(state)]\n",
    "    print(f\"Valid Moves: {valid_moves}\")\n",
    "    action = int(input(f\"Player {player}:\"))\n",
    "    if action not in valid_moves:\n",
    "      print(\"Invalid Move.\")\n",
    "      continue\n",
    "\n",
    "  else:\n",
    "    policy = MuZero.optimal_policy(muzero, state, player, prng)\n",
    "    action = np.argmax(policy)\n",
    "\n",
    "  state, reward, terminal = env.step(state, action, player)\n",
    "  potential_winner = player\n",
    "  player = -player\n",
    "\n",
    "print(state)\n",
    "if reward > 0:\n",
    "  print(f\"{potential_winner} won!\")\n",
    "else:\n",
    "  print(\"Draw!\")"
   ]
  }
 ],
 "metadata": {
  "kernelspec": {
   "display_name": "Python 3",
   "language": "python",
   "name": "python3"
  },
  "language_info": {
   "codemirror_mode": {
    "name": "ipython",
    "version": 3
   },
   "file_extension": ".py",
   "mimetype": "text/x-python",
   "name": "python",
   "nbconvert_exporter": "python",
   "pygments_lexer": "ipython3",
   "version": "3.11.0"
  },
  "orig_nbformat": 4,
  "vscode": {
   "interpreter": {
    "hash": "aee8b7b246df8f9039afb4144a1f6fd8d2ca17a180786b69acc140d282b71a49"
   }
  }
 },
 "nbformat": 4,
 "nbformat_minor": 2
}
